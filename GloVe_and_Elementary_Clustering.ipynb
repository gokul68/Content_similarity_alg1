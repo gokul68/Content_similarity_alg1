{
  "nbformat": 4,
  "nbformat_minor": 0,
  "metadata": {
    "colab": {
      "name": "GloVe and Elementary Clustering.ipynb",
      "provenance": [],
      "collapsed_sections": [],
      "include_colab_link": true
    },
    "kernelspec": {
      "name": "python3",
      "display_name": "Python 3"
    },
    "accelerator": "TPU"
  },
  "cells": [
    {
      "cell_type": "markdown",
      "metadata": {
        "id": "view-in-github",
        "colab_type": "text"
      },
      "source": [
        "<a href=\"https://colab.research.google.com/github/gokul68/Content_similarity_alg1/blob/master/GloVe_and_Elementary_Clustering.ipynb\" target=\"_parent\"><img src=\"https://colab.research.google.com/assets/colab-badge.svg\" alt=\"Open In Colab\"/></a>"
      ]
    },
    {
      "cell_type": "code",
      "metadata": {
        "id": "N30ti5RD7xUA",
        "colab_type": "code",
        "colab": {}
      },
      "source": [
        "import numpy as np\n",
        "from collections import *"
      ],
      "execution_count": null,
      "outputs": []
    },
    {
      "cell_type": "code",
      "metadata": {
        "id": "F1pU844qlWL2",
        "colab_type": "code",
        "colab": {}
      },
      "source": [
        "import torch\n",
        "import torchtext\n",
        "import re"
      ],
      "execution_count": null,
      "outputs": []
    },
    {
      "cell_type": "code",
      "metadata": {
        "id": "0JfYZcSylbcR",
        "colab_type": "code",
        "colab": {
          "base_uri": "https://localhost:8080/",
          "height": 50
        },
        "outputId": "4ac1b4db-3c81-41eb-a367-715064836bab"
      },
      "source": [
        "glove=torchtext.vocab.GloVe(name='6B',dim=50)"
      ],
      "execution_count": null,
      "outputs": [
        {
          "output_type": "stream",
          "text": [
            ".vector_cache/glove.6B.zip: 862MB [06:27, 2.22MB/s]                           \n",
            "100%|█████████▉| 398683/400000 [00:15<00:00, 25680.79it/s]"
          ],
          "name": "stderr"
        }
      ]
    },
    {
      "cell_type": "code",
      "metadata": {
        "id": "jVkJNvCea23z",
        "colab_type": "code",
        "colab": {
          "base_uri": "https://localhost:8080/",
          "height": 84
        },
        "outputId": "c32bb2b0-56e7-4c77-948e-de1470fb00e6"
      },
      "source": [
        "import nltk\n",
        "nltk.download('wordnet')\n",
        "nltk.download('stopwords')\n",
        "from nltk.corpus import wordnet\n",
        "from nltk.corpus import stopwords"
      ],
      "execution_count": null,
      "outputs": [
        {
          "output_type": "stream",
          "text": [
            "[nltk_data] Downloading package wordnet to /root/nltk_data...\n",
            "[nltk_data]   Unzipping corpora/wordnet.zip.\n",
            "[nltk_data] Downloading package stopwords to /root/nltk_data...\n",
            "[nltk_data]   Unzipping corpora/stopwords.zip.\n"
          ],
          "name": "stdout"
        }
      ]
    },
    {
      "cell_type": "code",
      "metadata": {
        "id": "oFhGX3j8k0SN",
        "colab_type": "code",
        "colab": {}
      },
      "source": [
        "from nltk.stem import WordNetLemmatizer\n",
        "stop=set(stopwords.words('english'));"
      ],
      "execution_count": null,
      "outputs": []
    },
    {
      "cell_type": "code",
      "metadata": {
        "id": "hfcJuWCRlXv0",
        "colab_type": "code",
        "colab": {}
      },
      "source": [
        "lemmatiser=WordNetLemmatizer();"
      ],
      "execution_count": null,
      "outputs": []
    },
    {
      "cell_type": "code",
      "metadata": {
        "id": "MJLJpPyvkJVP",
        "colab_type": "code",
        "colab": {}
      },
      "source": [
        "def cleanup(doc):\n",
        "  f=doc.lower();\n",
        "  f1=re.split('\\W+',f);\n",
        "  f2=[];\n",
        "  for i in f1:\n",
        "    if (i in stop) or (len(i)<=2):\n",
        "      continue;\n",
        "    else:\n",
        "      j=lemmatiser.lemmatize(i,pos='n');\n",
        "      j1=lemmatiser.lemmatize(j,pos='v');\n",
        "      j2=lemmatiser.lemmatize(j1,pos='a');\n",
        "      j3=lemmatiser.lemmatize(j2,wordnet.ADJ);\n",
        "      f2.append(j3);\n",
        "  return f2;"
      ],
      "execution_count": null,
      "outputs": []
    },
    {
      "cell_type": "code",
      "metadata": {
        "id": "4yF6Eaz0l5Gg",
        "colab_type": "code",
        "colab": {}
      },
      "source": [
        "def Vectoriser(cleandoc):\n",
        "  def default():\n",
        "    return None;\n",
        "  CountVector=defaultdict(default);\n",
        "  for i in cleandoc:\n",
        "    if CountVector[i]==None:\n",
        "      CountVector[i]=1;\n",
        "    else:\n",
        "      CountVector[i]+=1;\n",
        "  return CountVector;"
      ],
      "execution_count": null,
      "outputs": []
    },
    {
      "cell_type": "code",
      "metadata": {
        "id": "LtFo0MpZnN5C",
        "colab_type": "code",
        "colab": {}
      },
      "source": [
        "def OrderedBasis(cleandoc1,cleandoc2):\n",
        "  C1=Vectoriser(cleandoc1);\n",
        "  C2=Vectoriser(cleandoc2);\n",
        "  def default():\n",
        "    return None;\n",
        "  basis=defaultdict(default);\n",
        "  for i in C1:\n",
        "    basis[i]=True;\n",
        "  for j in C2:\n",
        "    basis[j]=True;\n",
        "  for word in basis:\n",
        "    if C1[word]==None:\n",
        "      C1[word]=0;\n",
        "    if C2[word]==None:\n",
        "      C2[word]=0;\n",
        "  return [C1,C2];"
      ],
      "execution_count": null,
      "outputs": []
    },
    {
      "cell_type": "code",
      "metadata": {
        "id": "s1HQlRDeqIYm",
        "colab_type": "code",
        "colab": {}
      },
      "source": [
        "def VectorBasis(cleandoc1,cleandoc2):\n",
        "  V=OrderedBasis(cleandoc1,cleandoc2);\n",
        "  c1=V[0];\n",
        "  c2=V[1];\n",
        "  v1=deque();\n",
        "  v2=deque();\n",
        "  for word in c1:\n",
        "    v1.append(c1[word]);\n",
        "    v2.append(c2[word]);\n",
        "  V1=np.array(list(v1));\n",
        "  V2=np.array(list(v2));\n",
        "  return [V1,V2];"
      ],
      "execution_count": null,
      "outputs": []
    },
    {
      "cell_type": "code",
      "metadata": {
        "id": "iYSYjghyq7YV",
        "colab_type": "code",
        "colab": {}
      },
      "source": [
        "def NaiveClustering(cleandoc,keys):\n",
        "  V=Vectoriser(cleandoc);\n",
        "  wordcount={i:1 for i in keys};\n",
        "  clusters={i:deque([i]) for i in keys};\n",
        "  mean={i:glove[i] for i in keys};\n",
        "  for word in V:\n",
        "    vect=glove[word];\n",
        "    x=0;\n",
        "    for i in vect:\n",
        "      if i.item()==0:\n",
        "        x+=1;\n",
        "    if x==len(vect):\n",
        "      continue;\n",
        "    else:\n",
        "      c=0;\n",
        "      Max=None;\n",
        "      index=None;\n",
        "      for m in mean:\n",
        "        if c==0:\n",
        "          Max=abs(torch.cosine_similarity(vect.unsqueeze(0),mean[m].unsqueeze(0)).item());\n",
        "          index=m;\n",
        "          c+=1;\n",
        "        else:\n",
        "          val=abs(torch.cosine_similarity(vect.unsqueeze(0),mean[m].unsqueeze(0)).item());\n",
        "          if val>Max:\n",
        "            Max=val;\n",
        "            index=m;\n",
        "      clusters[index].append(word);\n",
        "      k=mean[index];\n",
        "      k=k*wordcount[index];\n",
        "      newMean=torch.add(k,vect)\n",
        "      newMean=newMean/(wordcount[index]+1);\n",
        "      mean[index]=newMean;\n",
        "      wordcount[index]+=1; \n",
        "  return clusters;"
      ],
      "execution_count": null,
      "outputs": []
    },
    {
      "cell_type": "code",
      "metadata": {
        "id": "5sz3uvG8vufL",
        "colab_type": "code",
        "colab": {}
      },
      "source": [
        "s=\"The legal system is made up of civil courts, criminal courts and specialty courts such as family law courts and bankruptcy court. Each court has its own jurisdiction, which refers to the cases that the court is allowed to hear. In some instances, a case can only be heard in one type of court. For example, a bankruptcy case must be heard in a bankruptcy court. In other instances, there may be several potential courts with jurisdiction. For example, a federal criminal court and a state criminal court would each have jurisdiction over a crime that is a federal drug offense but that is also an offense on the state level.\";"
      ],
      "execution_count": null,
      "outputs": []
    },
    {
      "cell_type": "code",
      "metadata": {
        "id": "crp0dO-ozqPY",
        "colab_type": "code",
        "colab": {}
      },
      "source": [
        "key=['court','crime','system','jurisdiction'];"
      ],
      "execution_count": null,
      "outputs": []
    },
    {
      "cell_type": "code",
      "metadata": {
        "id": "ARTAEJY-0H9N",
        "colab_type": "code",
        "colab": {}
      },
      "source": [
        "S=cleanup(s);"
      ],
      "execution_count": null,
      "outputs": []
    },
    {
      "cell_type": "code",
      "metadata": {
        "id": "LBf8DjDM0KyW",
        "colab_type": "code",
        "colab": {
          "base_uri": "https://localhost:8080/",
          "height": 521
        },
        "outputId": "946c938a-8f80-42b9-dfcd-98b56b4fe40f"
      },
      "source": [
        "NaiveClustering(S,key)"
      ],
      "execution_count": null,
      "outputs": [
        {
          "output_type": "execute_result",
          "data": {
            "text/plain": [
              "{'court': deque(['court',\n",
              "        'legal',\n",
              "        'civil',\n",
              "        'court',\n",
              "        'family',\n",
              "        'law',\n",
              "        'bankruptcy',\n",
              "        'case',\n",
              "        'hear',\n",
              "        'federal',\n",
              "        'state']),\n",
              " 'crime': deque(['crime', 'criminal', 'crime', 'drug', 'offense']),\n",
              " 'jurisdiction': deque(['jurisdiction', 'jurisdiction']),\n",
              " 'system': deque(['system',\n",
              "        'system',\n",
              "        'make',\n",
              "        'specialty',\n",
              "        'refer',\n",
              "        'allow',\n",
              "        'instance',\n",
              "        'one',\n",
              "        'type',\n",
              "        'example',\n",
              "        'must',\n",
              "        'may',\n",
              "        'several',\n",
              "        'potential',\n",
              "        'would',\n",
              "        'also',\n",
              "        'level'])}"
            ]
          },
          "metadata": {
            "tags": []
          },
          "execution_count": 15
        }
      ]
    },
    {
      "cell_type": "code",
      "metadata": {
        "id": "r3ntPur4zthY",
        "colab_type": "code",
        "colab": {}
      },
      "source": [
        "import random"
      ],
      "execution_count": null,
      "outputs": []
    },
    {
      "cell_type": "code",
      "metadata": {
        "id": "4BPHNQRkgOUB",
        "colab_type": "code",
        "colab": {}
      },
      "source": [
        "def RandomTheme(doc,k,w):\n",
        "  S=cleanup(doc);\n",
        "  random.shuffle(S);\n",
        "  keys=S[0:k];\n",
        "  Cluster=NaiveClustering(S,keys);\n",
        "  Theme={};\n",
        "  for i in Cluster:\n",
        "    Theme[i]=True;\n",
        "    c=list(Cluster[i]);\n",
        "    random.shuffle(c);\n",
        "    Theme.update({i:True for i in c[0:w]});\n",
        "  return Theme;"
      ],
      "execution_count": null,
      "outputs": []
    },
    {
      "cell_type": "code",
      "metadata": {
        "id": "KO8R3b789dak",
        "colab_type": "code",
        "colab": {
          "base_uri": "https://localhost:8080/",
          "height": 235
        },
        "outputId": "a86b75b6-1fd2-4b23-93d4-eb15ad7f0fe3"
      },
      "source": [
        "RandomTheme(s,5,3)"
      ],
      "execution_count": null,
      "outputs": [
        {
          "output_type": "execute_result",
          "data": {
            "text/plain": [
              "{'case': True,\n",
              " 'court': True,\n",
              " 'crime': True,\n",
              " 'criminal': True,\n",
              " 'drug': True,\n",
              " 'family': True,\n",
              " 'federal': True,\n",
              " 'hear': True,\n",
              " 'jurisdiction': True,\n",
              " 'law': True,\n",
              " 'make': True,\n",
              " 'refer': True,\n",
              " 'state': True}"
            ]
          },
          "metadata": {
            "tags": []
          },
          "execution_count": 22
        }
      ]
    },
    {
      "cell_type": "code",
      "metadata": {
        "id": "AGPbA5_39hkp",
        "colab_type": "code",
        "colab": {}
      },
      "source": [
        "def Topics(doc,k,w,n):\n",
        "  topic={};\n",
        "  for i in range(n):\n",
        "    theme=RandomTheme(doc,k,w);\n",
        "    for i in theme:\n",
        "      d=topic.get(i,False);\n",
        "      if d==False:\n",
        "        topic[i]=1;\n",
        "      else:\n",
        "        topic[i]+=1;\n",
        "  Topics=sorted(topic.items(),key=lambda x:x[1]);\n",
        "  T=[Topics[-i][0] for i in range(1,k+1)];\n",
        "  return T;"
      ],
      "execution_count": null,
      "outputs": []
    },
    {
      "cell_type": "code",
      "metadata": {
        "id": "m-amvUQM-3ln",
        "colab_type": "code",
        "colab": {
          "base_uri": "https://localhost:8080/",
          "height": 34
        },
        "outputId": "4bb9671a-2ffb-4daf-b848-f84f52778648"
      },
      "source": [
        "Topics(s,5,3,1000)"
      ],
      "execution_count": null,
      "outputs": [
        {
          "output_type": "execute_result",
          "data": {
            "text/plain": [
              "['court', 'jurisdiction', 'bankruptcy', 'criminal', 'offense']"
            ]
          },
          "metadata": {
            "tags": []
          },
          "execution_count": 29
        }
      ]
    },
    {
      "cell_type": "code",
      "metadata": {
        "id": "C7t2uIIk-6hP",
        "colab_type": "code",
        "colab": {}
      },
      "source": [
        ""
      ],
      "execution_count": null,
      "outputs": []
    }
  ]
}