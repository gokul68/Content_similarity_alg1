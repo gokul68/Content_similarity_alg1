{
 "cells": [
  {
   "cell_type": "code",
   "execution_count": 1,
   "metadata": {},
   "outputs": [],
   "source": [
    "#content similarity detection using GloVe \n",
    "#before running the program make sure you have the dataset downloaded\n",
    "#the file named \"glove.6B.50d.txt\" should be present in the same directory as the program"
   ]
  },
  {
   "cell_type": "code",
   "execution_count": 2,
   "metadata": {},
   "outputs": [],
   "source": [
    "from nltk.tokenize import word_tokenize\n",
    "from nltk.corpus import stopwords\n",
    "from string import punctuation\n",
    "import math\n",
    "import numpy as np\n",
    "import pandas as pd\n",
    "import time\n",
    "import numpy as np\n",
    "from scipy import spatial\n",
    "stop_words=set(stopwords.words('english'))-{'won'}\n",
    "punctuations=list(punctuation)"
   ]
  },
  {
   "cell_type": "code",
   "execution_count": 7,
   "metadata": {},
   "outputs": [],
   "source": [
    "#This cell loads the GloVe dataset\n",
    "#This cell should be run only once. Once the dataset is loaded it need not be run again as it will slow down the program.\n",
    "embeddings_dict = {}\n",
    "with open(\"glove.6B.50d.txt\", 'r', encoding='utf-8') as f:\n",
    "    for line in f:\n",
    "        values = line.split()\n",
    "        token = values[0]\n",
    "        vector = np.asarray(values[1:], \"float32\")\n",
    "        embeddings_dict[token] = vector"
   ]
  },
  {
   "cell_type": "code",
   "execution_count": 3,
   "metadata": {},
   "outputs": [],
   "source": [
    "#This function returns the words whose embeddings are closest to that of the given embedding. \n",
    "#It is not called anywhere in the program, it is just used for testing purposes.\n",
    "#If you do call this function, it will return a sorted array of length equal to embeddings_dict \n",
    "#Do not perform any operations(including print) on the entire array as it might crash your system. Only use specific elements from the array.\n",
    "def find_closest_embedding(embedding):\n",
    "    return sorted(embeddings_dict.keys(), key=lambda word: spatial.distance.euclidean(embeddings_dict[word], embedding))"
   ]
  },
  {
   "cell_type": "code",
   "execution_count": 4,
   "metadata": {},
   "outputs": [],
   "source": [
    "#Removes stop words and punctuation\n",
    "def tokenizer(text):\n",
    "    list=word_tokenize(text)\n",
    "    filtered_list=[tokens.lower() for tokens in list if not tokens.lower() in stop_words if not tokens in punctuations]\n",
    "    return filtered_list"
   ]
  },
  {
   "cell_type": "code",
   "execution_count": 5,
   "metadata": {},
   "outputs": [],
   "source": [
    "#Adds the word embeddings of all the words in the text\n",
    "def Vectorise(D1,D2):\n",
    "    d1n=np.zeros(50);\n",
    "    d2n=np.zeros(50);\n",
    "    for i in D1:\n",
    "        try:\n",
    "            d1n+=embeddings_dict[i]\n",
    "        except KeyError:\n",
    "            d1n+=[0]*50\n",
    "    for j in D2:\n",
    "        try:\n",
    "            d2n+=embeddings_dict[j]\n",
    "        except KeyError:\n",
    "            d2n+=[0]*50\n",
    "            print(j)\n",
    "    return [d1n,d2n];"
   ]
  },
  {
   "cell_type": "code",
   "execution_count": 9,
   "metadata": {},
   "outputs": [
    {
     "name": "stdout",
     "output_type": "stream",
     "text": [
      "0.9954469500586857\n"
     ]
    }
   ],
   "source": [
    "t1=\"The legal system is made up of civil courts, criminal courts and specialty courts such as family law courts and bankruptcy court. Each court has its own jurisdiction, which refers to the cases that the court is allowed to hear. In some instances, a case can only be heard in one type of court. For example, a bankruptcy case must be heard in a bankruptcy court. In other instances, there may be several potential courts with jurisdiction. For example, a federal criminal court and a state criminal court would each have jurisdiction over a crime that is a federal drug offense but that is also an offense on the state level.\"\n",
    "t2=\"The legal system is comprised of criminal and civil courts and specialty courts like bankruptcy and family law courts. Every one of the courts is vested with its own jurisdiction. Jurisdiction means the types of cases each court is permitted to rule on. Sometimes, only one type of court can hear a particular case. For instance, bankruptcy cases an be ruled on only in bankruptcy court. In other situations, it is possible for more than one court to have jurisdiction. For instance, both a state and federal criminal court could have authority over a criminal case that is illegal under federal and state drug laws.\"\n",
    "s1=tokenizer(t1)\n",
    "s2=tokenizer(t2)\n",
    "r=Vectorise(s1,s2)\n",
    "print((1-spatial.distance.cosine(r[0],r[1]))*1"
   ]
  },
  {
   "cell_type": "code",
   "execution_count": 13,
   "metadata": {},
   "outputs": [
    {
     "name": "stdout",
     "output_type": "stream",
     "text": [
      "(50,)\n"
     ]
    }
   ],
   "source": [
    "print(embeddings_dict['king'].shape)"
   ]
  },
  {
   "cell_type": "code",
   "execution_count": null,
   "metadata": {},
   "outputs": [],
   "source": []
  }
 ],
 "metadata": {
  "kernelspec": {
   "display_name": "Python 3",
   "language": "python",
   "name": "python3"
  },
  "language_info": {
   "codemirror_mode": {
    "name": "ipython",
    "version": 3
   },
   "file_extension": ".py",
   "mimetype": "text/x-python",
   "name": "python",
   "nbconvert_exporter": "python",
   "pygments_lexer": "ipython3",
   "version": "3.7.6"
  }
 },
 "nbformat": 4,
 "nbformat_minor": 4
}
